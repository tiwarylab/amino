{
 "cells": [
  {
   "cell_type": "code",
   "execution_count": null,
   "metadata": {
    "scrolled": true
   },
   "outputs": [],
   "source": [
    "import amino_fast"
   ]
  },
  {
   "cell_type": "code",
   "execution_count": null,
   "metadata": {},
   "outputs": [],
   "source": [
    "colvar = open(\"data/BOUND_COLVAR\")\n",
    "split = colvar.readline().split()\n",
    "names = []\n",
    "trajs = {}\n",
    "\n",
    "for i in range(3, len(split)):\n",
    "    names.append(split[i])\n",
    "    trajs[split[i]] = []\n",
    "    \n",
    "for line in colvar:\n",
    "    timestep = line.split()\n",
    "    for i in range(len(timestep) - 1):\n",
    "        trajs[names[i]].append(float(timestep[i + 1]))\n",
    "\n",
    "all_ops = []\n",
    "    \n",
    "for i in names:\n",
    "    all_ops.append(amino_fast.OrderParameter(i, trajs[i]))"
   ]
  },
  {
   "cell_type": "code",
   "execution_count": 3,
   "metadata": {},
   "outputs": [
    {
     "name": "stdout",
     "output_type": "stream",
     "text": [
      "[########################################] | 100% Completed | 266.39 s\n",
      "Checking 20 order parameters...\n",
      "Checking 19 order parameters...\n",
      "Checking 18 order parameters...\n",
      "Checking 17 order parameters...\n",
      "Checking 16 order parameters...\n",
      "Checking 15 order parameters...\n",
      "Checking 14 order parameters...\n",
      "Checking 13 order parameters...\n",
      "Checking 12 order parameters...\n",
      "Checking 11 order parameters...\n",
      "Checking 10 order parameters...\n",
      "Checking 9 order parameters...\n",
      "Checking 8 order parameters...\n",
      "Checking 7 order parameters...\n",
      "Checking 6 order parameters...\n",
      "Checking 5 order parameters...\n",
      "Checking 4 order parameters...\n",
      "Checking 3 order parameters...\n",
      "Checking 2 order parameters...\n",
      "Checking 1 order parameters...\n",
      "\n",
      "AMINO order parameters:\n",
      "d1053_1666\n",
      "d1259_1664\n"
     ]
    }
   ],
   "source": [
    "print(len(all_ops))\n",
    "\n",
    "final_ops = amino_fast.find_ops(all_ops, 20, 80)\n",
    "\n",
    "print(\"\\nAMINO order parameters:\")\n",
    "for i in final_ops:\n",
    "    print(i)"
   ]
  },
  {
   "cell_type": "code",
   "execution_count": null,
   "metadata": {},
   "outputs": [],
   "source": []
  }
 ],
 "metadata": {
  "kernelspec": {
   "display_name": "Python 3",
   "language": "python",
   "name": "python3"
  },
  "language_info": {
   "codemirror_mode": {
    "name": "ipython",
    "version": 3
   },
   "file_extension": ".py",
   "mimetype": "text/x-python",
   "name": "python",
   "nbconvert_exporter": "python",
   "pygments_lexer": "ipython3",
   "version": "3.10.14"
  }
 },
 "nbformat": 4,
 "nbformat_minor": 2
}
