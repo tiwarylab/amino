{
 "cells": [
  {
   "cell_type": "code",
   "execution_count": 1,
   "metadata": {
    "scrolled": true
   },
   "outputs": [],
   "source": [
    "import amino_cli"
   ]
  },
  {
   "cell_type": "code",
   "execution_count": 3,
   "metadata": {},
   "outputs": [
    {
     "name": "stdout",
     "output_type": "stream",
     "text": [
      "DM construction time: 34.68 s\n",
      "Checking 20 order parameters...\n",
      "Checking 19 order parameters...\n",
      "Checking 18 order parameters...\n",
      "Checking 17 order parameters...\n",
      "Checking 16 order parameters...\n",
      "Checking 15 order parameters...\n",
      "Checking 14 order parameters...\n",
      "Checking 13 order parameters...\n",
      "Checking 12 order parameters...\n",
      "Checking 11 order parameters...\n",
      "Checking 10 order parameters...\n",
      "Checking 9 order parameters...\n",
      "Checking 8 order parameters...\n",
      "Checking 7 order parameters...\n",
      "Checking 6 order parameters...\n",
      "Checking 5 order parameters...\n",
      "Checking 4 order parameters...\n",
      "Checking 3 order parameters...\n",
      "Checking 2 order parameters...\n",
      "Checking 1 order parameters...\n"
     ]
    },
    {
     "data": {
      "text/plain": [
       "[<amino.OrderParameter at 0x7f3652f68a40>,\n",
       " <amino.OrderParameter at 0x7f3652f43e00>]"
      ]
     },
     "execution_count": 3,
     "metadata": {},
     "output_type": "execute_result"
    }
   ],
   "source": [
    "amino_cli.main(\"data/BOUND_COLVAR\", n=20)"
   ]
  },
  {
   "cell_type": "code",
   "execution_count": null,
   "metadata": {},
   "outputs": [],
   "source": []
  }
 ],
 "metadata": {
  "kernelspec": {
   "display_name": "Python 3",
   "language": "python",
   "name": "python3"
  },
  "language_info": {
   "codemirror_mode": {
    "name": "ipython",
    "version": 3
   },
   "file_extension": ".py",
   "mimetype": "text/x-python",
   "name": "python",
   "nbconvert_exporter": "python",
   "pygments_lexer": "ipython3",
   "version": "3.12.2"
  }
 },
 "nbformat": 4,
 "nbformat_minor": 2
}
